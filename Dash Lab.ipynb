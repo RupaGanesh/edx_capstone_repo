{
    "cells": [
        {
            "cell_type": "code",
            "execution_count": null,
            "metadata": {},
            "outputs": [],
            "source": "!pip3 install pandas dash\n!wget \"https://cf-courses-data.s3.us.cloud-object-storage.appdomain.cloud/IBM-DS0321EN-SkillsNetwork/datasets/spacex_launch_dash.csv\"\n\n# Import required libraries\nimport pandas as pd\nimport dash\nimport dash_html_components as html\nimport dash_core_components as dcc\nfrom dash.dependencies import Input, Output\nimport plotly.express as px\n\n# Read the airline data into pandas dataframe\nspacex_df = pd.read_csv(\"spacex_launch_dash.csv\")\nmax_payload = spacex_df['Payload Mass (kg)'].max()\nmin_payload = spacex_df['Payload Mass (kg)'].min()\n\n# Create a dash application\napp = dash.Dash(__name__)\n\n# Create an app layout\napp.layout = html.Div(children=[html.H1('SpaceX Launch Records Dashboard',\n                                        style={'textAlign': 'center', 'color': '#503D36',\n                                               'font-size': 40}),\n                                # TASK 1: Add a dropdown list to enable Launch Site selection\n                                # The default select value is for ALL sites\n                                # dcc.Dropdown(id='site-dropdown',...)\n                                dcc.Dropdown(id='site-dropdown', \n                                options=[\n                                    {'label': 'All Sites', 'value': 'ALL'}, \n                                    {'label': 'CCAFS\u00a0LC-40', 'value': 'CCAFS\u00a0LC-40'}, \n                                    {'label': 'CCAFS\u00a0SLC-40', 'value': 'CCAFS\u00a0SLC-40'}, \n                                    {'label': 'KSC\u00a0LC-39A', 'value': 'KSC\u00a0LC-39A'}, \n                                    {'label': 'VAFB\u00a0SLC-4E', 'value': 'VAFB\u00a0SLC-4E'}\n                                    ], \n                                value='ALL', \n                                placeholder=\"Select\u00a0the\u00a0launch\u00a0site\", \n                                searchable=True\n                                ),\n                                html.Br(),\n\n                                # TASK 2: Add a pie chart to show the total successful launches count for all sites\n                                # If a specific launch site was selected, show the Success vs. Failed counts for the site\n                                html.Div(dcc.Graph(id='success-pie-chart')),\n                                html.Br(),\n\n                                html.P(\"Payload range (Kg):\"),\n                                # TASK 3: Add a slider to select payload range\n                                #dcc.RangeSlider(id='payload-slider',...)\n                                dcc.RangeSlider(id='payload-slider',\n                                                min=0, max=10000, step=1000,\n                                                marks={0: '0', 2500: '2500', 5000:'5000',7500:'7500',10000:'10000'},\n                                                value=[min_payload , max_payload]),\n\n                                # TASK 4: Add a scatter chart to show the correlation between payload and launch success\n                                html.Div(dcc.Graph(id='success-payload-scatter-chart')),\n                                ])\n\n# TASK 2:\n# Add a callback function for `site-dropdown` as input, `success-pie-chart` as output\n@app.callback(Output(component_id='success-pie-chart', component_property='figure'),\n                Input(component_id='site-dropdown', component_property='value'))\n#\u00a0Add\u00a0computation\u00a0to\u00a0callback\u00a0function\u00a0and\u00a0return\u00a0graph\ndef get_pie_chart(site_selected):\n#\u00a0Select\u00a0Launch\u00a0site\u00a0data\n    filtered_df = spacex_df\n    if site_selected== 'ALL':\n        filtered_df = spacex_df\n        fig = px.pie(filtered_df, values='class', names='Launch Site',title='Total success launches by each site')\n        return fig\n    else:\n        #filtered_df =spacex_df[spacex_df['Launch\u00a0Site']==site_selected] # my code \n         #\u00a0Group\u00a0the\u00a0data\u00a0to\u00a0calculate\u00a0the\u00a0success\u00a0rate\n# #filtered_df=filtered_df.groupby('Launch\u00a0Site','Class')['Class'].sum()#.reset_index()\n       #filtered_df =filtered_df.groupby(['Launch\u00a0Site','class']).size().reset_index(name='class count')#my original code\n#\u00a0#fig\u00a0=\u00a0px.pie(filtered_df,\u00a0values='Class',\u00a0names='Launch\u00a0Site',\u00a0title='Success/Failure\u00a0for\u00a0Launch\u00a0site\u00a0selected'{}\".format(site_selected))\n        filtered_df = spacex_df[spacex_df['Launch Site'] == site_selected].groupby(['Launch Site', 'class']).size().reset_index(name='class count')\n        filtered_df=filtered_df\n        fig=px.pie(filtered_df,values='class count',names='class',title=f'Success/Failure\u00a0for\u00a0Launch\u00a0site\u00a0 {site_selected}')\n       # fig.update_layout(title='Pie\u00a0Chart')\n        return fig\n\n# TASK 4:\n# Add a callback function for `site-dropdown` and `payload-slider` as inputs, `success-payload-scatter-chart` as output\n@app.callback(Output(component_id='success-payload-scatter-chart', component_property='figure'),\n                Input(component_id='site-dropdown', component_property='value'),\n                Input(component_id='payload-slider', component_property='value'))\ndef get_scatter_chart(site_selected,range_selected):\n#\u00a0Select\u00a0Launch\u00a0site\u00a0data\n    #min_payload=range_selected[0]\n    #max_payload=range_selected[1]\n    #range_cond=(spacex_df['Payload Mass (kg)']>min_payload) & (spacex_df['Payload Mass (kg)'] <max_payload)\n     #filtered_df= spacex_df[range_cond]\n    filtered_df= spacex_df[(spacex_df['Payload Mass (kg)']>=range_selected[0]) & (spacex_df['Payload Mass (kg)'] <=range_selected[1])]\n   \n    if site_selected== 'ALL':\n        filtered_df = filtered_df\n        fig = px.scatter(filtered_df, x='Payload Mass (kg)',y='class', color='Booster Version Category')\n        return fig\n    else:\n        filtered_df = filtered_df[filtered_df['Launch Site'] == site_selected]\n        #filtered_df=filtered_df\n        fig = px.scatter(filtered_df, x='Payload Mass (kg)',y='class', color='Booster Version Category')\n       # fig.update_layout(title='Pie\u00a0Chart')\n        return fig\n\n# Run the app\nif __name__ == '__main__':\n    app.run_server()\n"
        },
        {
            "cell_type": "code",
            "execution_count": null,
            "metadata": {},
            "outputs": [],
            "source": "if __name__ == '__main__':\n    app.run_server()\n"
        },
        {
            "cell_type": "code",
            "execution_count": null,
            "metadata": {},
            "outputs": [],
            "source": ""
        }
    ],
    "metadata": {
        "kernelspec": {
            "display_name": "Python 3.9",
            "language": "python",
            "name": "python3"
        },
        "language_info": {
            "codemirror_mode": {
                "name": "ipython",
                "version": 3
            },
            "file_extension": ".py",
            "mimetype": "text/x-python",
            "name": "python",
            "nbconvert_exporter": "python",
            "pygments_lexer": "ipython3",
            "version": "3.9.7"
        }
    },
    "nbformat": 4,
    "nbformat_minor": 1
}